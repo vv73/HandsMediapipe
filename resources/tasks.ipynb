{
 "cells": [
  {
   "cell_type": "markdown",
   "source": [
    "# Рабочая тетрадь к занятию «Mediapipe. Модуль Hands»"
   ],
   "metadata": {
    "collapsed": false,
    "pycharm": {
     "name": "#%% md\n"
    }
   }
  },
  {
   "cell_type": "markdown",
   "source": [
    "## Задание №1\n",
    "Переделайте программу так, чтобы она брала изображение с камеры и обрабатывала видеопоток"
   ],
   "metadata": {
    "collapsed": false,
    "pycharm": {
     "name": "#%% md\n"
    }
   }
  },
  {
   "cell_type": "code",
   "execution_count": null,
   "outputs": [],
   "source": [
    "# 0. Импортируем необходимое\n",
    "# из библиотек OpenCV и MediaPipe\n",
    "import cv2\n",
    "import mediapipe as mp\n",
    "from mediapipe.tasks import python\n",
    "from mediapipe.tasks.python import vision\n",
    "# и собственную функцию для рисования\n",
    "from draw_landmarks import draw_landmarks_on_image\n",
    "\n",
    "# 1. Создаем и настраиваем детектор\n",
    "base_options = python.BaseOptions(model_asset_path='hand_landmarker.task')\n",
    "options = vision.HandLandmarkerOptions(base_options=base_options,\n",
    "                                       num_hands=2)\n",
    "detector = vision.HandLandmarker.create_from_options(options)\n",
    "\n",
    "# 2. Подготовливаем изображение\n",
    "cv_mat = cv2.cvtColor(cv2.imread(\"pics/hand.jpg\"), cv2.COLOR_RGB2BGR)\n",
    "\n",
    "# Перводим его в формат Mediapipe-изображений\n",
    "image = mp.Image(image_format=mp.ImageFormat.SRGB, data=cv_mat)\n",
    "\n",
    "# 3. Самое главное: РАСПОЗНАЕМ\n",
    "detection_result = detector.detect(image)\n",
    "\n",
    "# Отрисовываем результат распознавания\n",
    "annotated_image = draw_landmarks_on_image(image, detection_result)\n",
    "cv2.imshow(\"Result\", cv2.cvtColor(annotated_image, cv2.COLOR_RGB2BGR))\n",
    "\n",
    "# Задерживаем программу до нажатия на кнопку\n",
    "cv2.waitKey(0)"
   ],
   "metadata": {
    "collapsed": false,
    "pycharm": {
     "name": "#%%\n"
    }
   }
  },
  {
   "cell_type": "markdown",
   "source": [
    "## Задание №2\n",
    "Допишите функцию, которая принимает имя картинки (без папки, только имя) и определяет, есть ли рука на этой картинке\n",
    "\n",
    "![](https://github.com/vv73/HandsMediapipe/raw/master/_common_res/task2.png)\n"
   ],
   "metadata": {
    "collapsed": false,
    "pycharm": {
     "name": "#%% md\n"
    }
   }
  },
  {
   "cell_type": "code",
   "execution_count": null,
   "outputs": [],
   "source": [
    "def hand_detected(pic_name):\n",
    "    # 2. Подготовливаем изображение\n",
    "    cv_mat = cv2.cvtColor(cv2.imread(\"pic_name\"), cv2.COLOR_RGB2BGR)\n",
    "    image = mp.Image(image_format=mp.ImageFormat.SRGB, data=cv_mat)\n",
    "    #...\n",
    "    # Здесь нужно дописать код, который положит в result True или False\n",
    "    #...\n",
    "    return result"
   ],
   "metadata": {
    "collapsed": false,
    "pycharm": {
     "name": "#%%\n"
    }
   }
  },
  {
   "cell_type": "markdown",
   "source": [
    "## Задание №3\n",
    "\n",
    "Напишите программу, которая раскрашивает подушечки пальцев в разные цвета."
   ],
   "metadata": {
    "collapsed": false,
    "pycharm": {
     "name": "#%% md\n"
    }
   }
  },
  {
   "cell_type": "code",
   "execution_count": null,
   "outputs": [],
   "source": [],
   "metadata": {
    "collapsed": false,
    "pycharm": {
     "name": "#%%\n"
    }
   }
  },
  {
   "cell_type": "markdown",
   "source": [
    "## Задание №3 (*)\n",
    "\n",
    "Напишите программу, которая определяет по видео, когда \"видит\" кулак, например рисует окружность вокруг кисти разного цвета, когда кулак сжат и разжат."
   ],
   "metadata": {
    "collapsed": false,
    "pycharm": {
     "name": "#%% md\n"
    }
   }
  },
  {
   "cell_type": "code",
   "execution_count": null,
   "outputs": [],
   "source": [],
   "metadata": {
    "collapsed": false,
    "pycharm": {
     "name": "#%%\n"
    }
   }
  }
 ],
 "metadata": {
  "kernelspec": {
   "display_name": "Python 3",
   "language": "python",
   "name": "python3"
  },
  "language_info": {
   "codemirror_mode": {
    "name": "ipython",
    "version": 2
   },
   "file_extension": ".py",
   "mimetype": "text/x-python",
   "name": "python",
   "nbconvert_exporter": "python",
   "pygments_lexer": "ipython2",
   "version": "2.7.6"
  }
 },
 "nbformat": 4,
 "nbformat_minor": 0
}